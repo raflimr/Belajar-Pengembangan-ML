{
 "cells": [
  {
   "cell_type": "code",
   "execution_count": null,
   "metadata": {
    "vscode": {
     "languageId": "plaintext"
    }
   },
   "outputs": [],
   "source": [
    "sentences = [\"I love my cat\",\n",
    "             \"Do you think my cat is cute?\"]\n",
    " \n",
    " \n",
    "tokenizer = Tokenizer(num_words = 100, oov_token=\"<OOV>\")\n",
    "tokenizer.fit_on_texts(sentences)\n",
    "sentences = [\"I love my cat\",\n",
    "             \"Do you think my cat is cute?\",\n",
    "             \"Additional cat for you\"]\n",
    "sequences = tokenizer.texts_to_sequences(sentences)\n",
    " \n",
    "padded = pad_sequences(sequences, padding=\"post\", truncating=\"post\", maxlen=10)\n",
    " \n",
    "print(\"Tokenizer: \",tokenizer.word_index)\n",
    "print(\"Sequences: \",sequences)\n",
    "print(\"Padded: \",padded)\n",
    " \n",
    "###########################\n",
    "Output\n",
    "Tokenizer:  {'<OOV>': 1, 'my': 2, 'cat': 3, 'i': 4, 'love': 5, 'do': 6, 'you': 7, 'think': 8, 'is': 9, 'cute': 10}\n",
    "Sequences:  [[4, 5, 2, 3], [6, 7, 8, 2, 3, 9, 10], [1, 3, 1, 7]]\n",
    "Padded:  [[ 4  5  2  3  0  0  0  0  0  0]\n",
    " [ 6  7  8  2  3  9 10  0  0  0]\n",
    " [ 1  3  1  7  0  0  0  0  0  0]]"
   ]
  }
 ],
 "metadata": {
  "language_info": {
   "name": "python"
  }
 },
 "nbformat": 4,
 "nbformat_minor": 2
}
